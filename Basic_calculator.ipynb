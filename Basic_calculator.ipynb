{
  "nbformat": 4,
  "nbformat_minor": 0,
  "metadata": {
    "colab": {
      "provenance": []
    },
    "kernelspec": {
      "name": "python3",
      "display_name": "Python 3"
    },
    "language_info": {
      "name": "python"
    }
  },
  "cells": [
    {
      "cell_type": "markdown",
      "source": [
        "#Basic calculator"
      ],
      "metadata": {
        "id": "vec132L2QK-o"
      }
    },
    {
      "cell_type": "markdown",
      "source": [
        "##Functions"
      ],
      "metadata": {
        "id": "fkwMmPjpQSk6"
      }
    },
    {
      "cell_type": "code",
      "execution_count": null,
      "metadata": {
        "id": "oUlDSzO2JTWX"
      },
      "outputs": [],
      "source": [
        "def add(a: float, b: float) -> float:\n",
        "  return a + b\n",
        "\n",
        "def subtract(a: float, b: float) -> float:\n",
        "  return a - b\n",
        "\n",
        "def multiply(a: float, b: float) -> float:\n",
        "  return a * b\n",
        "\n",
        "def divide(a: float, b: float) -> float:\n",
        "    return a / b"
      ]
    },
    {
      "cell_type": "markdown",
      "source": [
        "##Calculator logic"
      ],
      "metadata": {
        "id": "I0diVjrjdMcD"
      }
    },
    {
      "cell_type": "code",
      "source": [
        "print('Supported operations: addition (+), subtraction (-), multiplication (*), and division (/)\\n')\n",
        "print('Results will be shown with a maximum of 5 decimal places\\n')\n",
        "input1 = input('Enter the first number: ')\n",
        "stop = ' '\n",
        "\n",
        "try:\n",
        "  while stop.upper() != 'C':\n",
        "      operator = input('Which operation would you like to perform? ')\n",
        "      input2 = input('Enter the next number: ')\n",
        "      print(f'Calculate: {input1} {operator} {input2}')\n",
        "\n",
        "      if operator == '+':\n",
        "        input1 = add(float(input1), float(input2))\n",
        "        print(f'Answer: {round(input1, 5)}\\n')\n",
        "\n",
        "      elif operator == '-':\n",
        "        input1 = subtract(float(input1), float(input2))\n",
        "        print(f'Answer: {round(input1, 5)}\\n')\n",
        "\n",
        "      elif operator == '*':\n",
        "        input1 = multiply(float(input1), float(input2))\n",
        "        print(f'Answer: {round(input1, 5)}\\n')\n",
        "\n",
        "      elif operator == '/':\n",
        "        try:\n",
        "          input1 = divide(float(input1), float(input2))\n",
        "          print(f'Answer: {round(input1, 5)}\\n')\n",
        "        except ZeroDivisionError:\n",
        "          print('Error: Cannot divide by zero.')\n",
        "          break\n",
        "\n",
        "      else:\n",
        "        print('Invalid input. Please try again and enter a valid option.')\n",
        "        break\n",
        "\n",
        "      stop = input('Press ENTER to continue or type C to exit. ')\n",
        "\n",
        "except ValueError:\n",
        "  print('Invalid input. Please try again and enter a valid number.\\n')\n",
        "\n",
        "print('\\nThe program has ended. Thank you for using our calculator!')"
      ],
      "metadata": {
        "id": "UhQZ1ZtWdOOK"
      },
      "execution_count": null,
      "outputs": []
    }
  ]
}